{
 "cells": [
  {
   "cell_type": "markdown",
   "metadata": {},
   "source": [
    "# DRILL: QUESTION DESIGN\n",
    "\n",
    "#Age: \n",
    "    - Age would be best described by a write in/ free response because there are a wide range of numbers that could potentially be entered here.  This could also be a multiple choice question if there are age ranges used\n",
    "    \n",
    "#Gender\n",
    "     - The best choice for this would be multiple choice since there are only a few possible answers to this question\n",
    "#Income\n",
    "    - This would either be best suited for a multiple choice question with ranges or a write in response if the exact values are needed because there are essentially endless possible responses for this question\n",
    "#Opinions about dish soap\n",
    "    - This would be a write in response since opinions can take many different forms\n",
    "#Brand of dish soap used \n",
    "    - This would be a multiple choice question since there are only so many brands that could be selected\n",
    "#Preference for dish soap brand (clean,sudsy,degreaser,pinesoft)\n",
    "    - Ranking would be best suited for this problem\n",
    "#positive vs negative feelings towards dish soap\n",
    "    - Rating scale would be best suited for this question\n",
    "\n",
    "\n",
    "\n"
   ]
  },
  {
   "cell_type": "markdown",
   "metadata": {},
   "source": [
    "# Drill: Fix the Flaw"
   ]
  },
  {
   "cell_type": "markdown",
   "metadata": {},
   "source": [
    "#9-On which issues does the mainstream media do the worst job of representing President Trump?\n",
    "    - This is flawed because it is implying that all categories do a poor job of representing president trump.  A better question would be do you feel that the mainstream media unfairly represents president trump in any of the following categories?\n",
    "    \n",
    "#10 Do you feel that the media is too eager to slur conservatives with basseless accusations of racism and sexism?\n",
    "    -Another loaded question, a better question would be something along the lines of: Do you believe that the media unfairly represents conservatives?\n",
    "    \n",
    "#12 Do you believe that the media fails to report on democrats scandals?\n",
    "    - A better question would be something along the lines of: Do you believe the media is unbaised in their coverage of all political parties?\n",
    "    \n",
    "#13 Do you believe that the media sensationalizes and exaggerates stories in order to paint president trump and conservatives in a bad light?\n",
    "    - A better question would simply be something like: Do you believe that the media is unbiased between democrats and republicans?\n",
    "    \n",
    "#14 Do you believe that the media purposely tries to divide republicans in order to help elect democrats?\n",
    "    - a better question would be: do you think that bias in the media could potentially affect the election results?\n",
    "    \n"
   ]
  },
  {
   "cell_type": "code",
   "execution_count": null,
   "metadata": {},
   "outputs": [],
   "source": []
  }
 ],
 "metadata": {
  "kernelspec": {
   "display_name": "Python 3",
   "language": "python",
   "name": "python3"
  },
  "language_info": {
   "codemirror_mode": {
    "name": "ipython",
    "version": 3
   },
   "file_extension": ".py",
   "mimetype": "text/x-python",
   "name": "python",
   "nbconvert_exporter": "python",
   "pygments_lexer": "ipython3",
   "version": "3.7.2"
  }
 },
 "nbformat": 4,
 "nbformat_minor": 2
}
