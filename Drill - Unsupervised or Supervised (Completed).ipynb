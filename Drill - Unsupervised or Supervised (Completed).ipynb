{
 "cells": [
  {
   "cell_type": "markdown",
   "metadata": {},
   "source": [
    "# 1- Define the likelihood that an individual will contract a specific disease\n",
    "    -This would most likely be a supervised learning problem since you would train the model with different data on individuals who contracted that disease\n",
    "# 2- Translate a set of images into variables for modeling\n",
    "    -This could be supervised or unsupervised depending on the purposes of the model and what kind of data is trying to be extracted from the images.  If there is no outcome variable to train the image feature extraction from the model would be unsupervised but if there are images to train the model with the model would be supervised.\n",
    "# 3- An ecommerce company wants to indentify power users\n",
    "    -This would be a supervised learning problem since there is an outcome variable\n",
    "# 4- That same company wants to see shopping patterns in users\n",
    "    -This would be more of an unsupervised learning model since there is no distinct outcome variable to train the model with mentioned.\n",
    "# 5- You want to reduce the number of variables inputting into the random forest model\n",
    "    -This would be done using an unsupervised model"
   ]
  }
 ],
 "metadata": {
  "kernelspec": {
   "display_name": "Python 3",
   "language": "python",
   "name": "python3"
  },
  "language_info": {
   "codemirror_mode": {
    "name": "ipython",
    "version": 3
   },
   "file_extension": ".py",
   "mimetype": "text/x-python",
   "name": "python",
   "nbconvert_exporter": "python",
   "pygments_lexer": "ipython3",
   "version": "3.7.2"
  }
 },
 "nbformat": 4,
 "nbformat_minor": 2
}
