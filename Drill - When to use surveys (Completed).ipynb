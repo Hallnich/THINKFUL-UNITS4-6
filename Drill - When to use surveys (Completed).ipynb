{
 "cells": [
  {
   "cell_type": "markdown",
   "metadata": {},
   "source": [
    "#1 Popularity of Various uber drivers\n",
    "    - A survey would most likely be skewed either because people would be more likely to report negative experiences as opposed to positive ones where they simply arrived on time, or because people simply give a 5 unless their experience is particularly bad.  However, for this situation a survey would be the cheapest and most viable way to review drivers \n",
    "#2 A grocery store wants to know how much people like strawberry, chocolate and vanilla ice cream\n",
    "    - This would be a good situation to use a survey since although it might not be the best way to find the solution to this problem it is definitely the cheapest and easiest and would most likely produce fairly representative results of the shopping preferences of people in that store\n",
    "#3 Trojan wants to know whether their condoms are more popular among straight people or gay people\n",
    "    - This is a poor situation to use a survey in because many people gay people sadly are still discriminated against and are thus less likely to report that they themselves are gay, meaning that the survey results would most likely show more straight people than gay people using the condoms, which may not actually be the case\n",
    "#4 Recently rental rates for HappyCars have increased by 30% which is quite unusual and you want to find out the cause of the increase and how to keep this going\n",
    "    - This is a poor survey question, a better way to solve this quesiton would most likely be through an exploratory analysis of the companies sales data or recent advertising campaigns.  \n",
    "#5 Assessing the sucess rate of a new advertising campaign.\n",
    "    - This would be a fairly good instance to implement a survey although using actual sales data would most likely produce a more accurate answer; the survey would most likely be the easiest way to get some insight into the advertising campaign if it was designed well.\n",
    "#6 Measuring the effect of nurse/patient ratio on patient recovery rates in hospital wards\n",
    "    - This would be a poor situation for a survey and again would be better solved using real data collected from the hospital about nurse/patient raios and the total time spent in the hospital along with the condition they were there for.  This is also most likely already tracked for most hospitals so the data should be fairly readily available."
   ]
  },
  {
   "cell_type": "code",
   "execution_count": null,
   "metadata": {},
   "outputs": [],
   "source": []
  }
 ],
 "metadata": {
  "kernelspec": {
   "display_name": "Python 3",
   "language": "python",
   "name": "python3"
  },
  "language_info": {
   "codemirror_mode": {
    "name": "ipython",
    "version": 3
   },
   "file_extension": ".py",
   "mimetype": "text/x-python",
   "name": "python",
   "nbconvert_exporter": "python",
   "pygments_lexer": "ipython3",
   "version": "3.7.2"
  }
 },
 "nbformat": 4,
 "nbformat_minor": 2
}
