{
 "cells": [
  {
   "cell_type": "code",
   "execution_count": 4,
   "metadata": {},
   "outputs": [],
   "source": [
    "import numpy as np\n",
    "import pandas as pd"
   ]
  },
  {
   "cell_type": "markdown",
   "metadata": {},
   "source": [
    "# Problem 1 - Find sum of all multiples of 3 or 5 below 1000"
   ]
  },
  {
   "cell_type": "code",
   "execution_count": 5,
   "metadata": {},
   "outputs": [
    {
     "name": "stdout",
     "output_type": "stream",
     "text": [
      "233168\n"
     ]
    }
   ],
   "source": [
    "div_3 = []\n",
    "div_5 = []\n",
    "for number in range(1000):\n",
    "    if number % 3 == 0:\n",
    "        div_3.append(number)\n",
    "    elif number % 5 == 0:\n",
    "        div_5.append(number)\n",
    "all_nums = div_3 + div_5\n",
    "result = np.sum(all_nums)\n",
    "print(result)"
   ]
  },
  {
   "cell_type": "markdown",
   "metadata": {},
   "source": [
    "# Problem 2 - Find the sum of even valued terms <4 million in fibonacci sequence"
   ]
  },
  {
   "cell_type": "code",
   "execution_count": 15,
   "metadata": {},
   "outputs": [
    {
     "name": "stdout",
     "output_type": "stream",
     "text": [
      "4613732\n"
     ]
    }
   ],
   "source": [
    "n_1 = 1\n",
    "n_2 = 1\n",
    "result = 0\n",
    "while n_1 < 4000000:\n",
    "    n_1, n_2 = n_2 , n_1 + n_2\n",
    "    if n_1 % 2 == 0:\n",
    "        result += n_1\n",
    "print(result)"
   ]
  },
  {
   "cell_type": "markdown",
   "metadata": {},
   "source": [
    "# Problem 3 - What is the largest prime factor of the number 600851475143?"
   ]
  },
  {
   "cell_type": "code",
   "execution_count": 16,
   "metadata": {},
   "outputs": [
    {
     "name": "stdout",
     "output_type": "stream",
     "text": [
      "6857\n"
     ]
    }
   ],
   "source": [
    "number = 600851475143\n",
    "x = 2\n",
    "while x * x < number:\n",
    "    while number % x == 0:\n",
    "        number = number // x\n",
    "    x = x + 1\n",
    "print(number)"
   ]
  },
  {
   "cell_type": "markdown",
   "metadata": {},
   "source": [
    "# Problem 4 - Find the largest palindrome made from the product of two 3-digit numbers"
   ]
  },
  {
   "cell_type": "code",
   "execution_count": 21,
   "metadata": {},
   "outputs": [
    {
     "name": "stdout",
     "output_type": "stream",
     "text": [
      "906609\n"
     ]
    }
   ],
   "source": [
    "result = 0\n",
    "for x1 in range(999, 100, -1):\n",
    "    for x2 in range(x1, 100, -1):\n",
    "        x3 = x1 * x2\n",
    "        if x3 > result:\n",
    "            s = str(x1 * x2)\n",
    "            if s == s[::-1]:\n",
    "                result = x1 * x2\n",
    "print(result)"
   ]
  },
  {
   "cell_type": "markdown",
   "metadata": {},
   "source": [
    "# Problem 5 - What is the smallest positive number that is evenly divisible by all of the numbers from 1 to 20?"
   ]
  },
  {
   "cell_type": "code",
   "execution_count": 25,
   "metadata": {},
   "outputs": [
    {
     "name": "stdout",
     "output_type": "stream",
     "text": [
      "232792560\n"
     ]
    }
   ],
   "source": [
    "def gcd(x,y):\n",
    "    return y and gcd(y, x % y) or x\n",
    "\n",
    "def l_mult(x,y):\n",
    "    return x * y // gcd(x,y)\n",
    "\n",
    "result = 1\n",
    "for number in range(1, 21):\n",
    "     result = l_mult(result, number)\n",
    "print(result)"
   ]
  },
  {
   "cell_type": "markdown",
   "metadata": {},
   "source": [
    "# Problem 6 - Find the difference between the sums of the squares of the first one hundred natural numbers and the square of the sum"
   ]
  },
  {
   "cell_type": "code",
   "execution_count": 31,
   "metadata": {},
   "outputs": [
    {
     "name": "stdout",
     "output_type": "stream",
     "text": [
      "25164150\n"
     ]
    }
   ],
   "source": [
    "range_ = range(1, 101)\n",
    "sum_ = sum(r)\n",
    "print(sum_ * sum_ - sum(i*i for i in range_))"
   ]
  },
  {
   "cell_type": "markdown",
   "metadata": {},
   "source": [
    "# Problem 7 - what is the 10001st prime number?"
   ]
  },
  {
   "cell_type": "code",
   "execution_count": 3,
   "metadata": {},
   "outputs": [
    {
     "name": "stdout",
     "output_type": "stream",
     "text": [
      "104743\n"
     ]
    }
   ],
   "source": [
    "def func():\n",
    "    D = {}  \n",
    "    Q = 2   \n",
    "    while 1:\n",
    "        if Q not in D:\n",
    "            yield Q        \n",
    "            D[Q*Q] = [Q]   \n",
    "        else:\n",
    "            for p in D[Q]: \n",
    "                D.setdefault(p + Q,[]).append(p)\n",
    "            del D[Q]       \n",
    "        Q += 1\n",
    "\n",
    "def nth_prime(n):\n",
    "    for i, prime in enumerate(func()):\n",
    "        if i == n - 1:\n",
    "            return prime\n",
    "\n",
    "print(nth_prime(10001))"
   ]
  },
  {
   "cell_type": "markdown",
   "metadata": {},
   "source": [
    "# Problem 8 - Find the thirteen adjacent digits in the 1000-digit number that have the greatest produc?"
   ]
  },
  {
   "cell_type": "code",
   "execution_count": 4,
   "metadata": {},
   "outputs": [
    {
     "name": "stdout",
     "output_type": "stream",
     "text": [
      "23514624000\n"
     ]
    }
   ],
   "source": [
    "number = '\\\n",
    "73167176531330624919225119674426574742355349194934\\\n",
    "96983520312774506326239578318016984801869478851843\\\n",
    "85861560789112949495459501737958331952853208805511\\\n",
    "12540698747158523863050715693290963295227443043557\\\n",
    "66896648950445244523161731856403098711121722383113\\\n",
    "62229893423380308135336276614282806444486645238749\\\n",
    "30358907296290491560440772390713810515859307960866\\\n",
    "70172427121883998797908792274921901699720888093776\\\n",
    "65727333001053367881220235421809751254540594752243\\\n",
    "52584907711670556013604839586446706324415722155397\\\n",
    "53697817977846174064955149290862569321978468622482\\\n",
    "83972241375657056057490261407972968652414535100474\\\n",
    "82166370484403199890008895243450658541227588666881\\\n",
    "16427171479924442928230863465674813919123162824586\\\n",
    "17866458359124566529476545682848912883142607690042\\\n",
    "24219022671055626321111109370544217506941658960408\\\n",
    "07198403850962455444362981230987879927244284909188\\\n",
    "84580156166097919133875499200524063689912560717606\\\n",
    "05886116467109405077541002256983155200055935729725\\\n",
    "71636269561882670428252483600823257530420752963450'\n",
    "\n",
    "biggest = 0\n",
    "i = 0\n",
    "while i < len(number) - 12:\n",
    "    one = int(number[i]) \n",
    "    two = int(number[i+1])  \n",
    "    thr = int(number[i+2]) \n",
    "    fou = int(number[i+3])\n",
    "    fiv = int(number[i+4])\n",
    "    six = int(number[i+5])\n",
    "    seven = int(number[i+6])\n",
    "    eight = int(number[i+7])  \n",
    "    nine = int(number[i+8]) \n",
    "    ten = int(number[i+9])\n",
    "    eleven = int(number[i+10])\n",
    "    twelve = int(number[i+11]) \n",
    "    thirteen = int(number[i])  \n",
    "    \n",
    "    product = one*two*thr*fou*fiv*six*seven*eight*nine*ten*eleven*twelve*thirteen\n",
    "    if product > biggest:\n",
    "        biggest = product\n",
    "    i = i + 1 \n",
    "print(biggest)"
   ]
  },
  {
   "cell_type": "markdown",
   "metadata": {},
   "source": [
    "# Problem 9 - There exists exactly one pythagorean triplet for which a + b + c = 1000 find the product abc"
   ]
  },
  {
   "cell_type": "code",
   "execution_count": 37,
   "metadata": {},
   "outputs": [
    {
     "name": "stdout",
     "output_type": "stream",
     "text": [
      "31875000\n"
     ]
    }
   ],
   "source": [
    "for a in range(1, 1000):\n",
    "     for b in range(a, 1000):\n",
    "            c = 1000 - a - b\n",
    "            if c > 0:\n",
    "                if c*c == a*a + b*b:\n",
    "                    print (a*b*c)"
   ]
  },
  {
   "cell_type": "markdown",
   "metadata": {},
   "source": [
    "# Problem 10 - Find the sum of all the primes below 2 million"
   ]
  },
  {
   "cell_type": "code",
   "execution_count": 5,
   "metadata": {},
   "outputs": [
    {
     "data": {
      "text/plain": [
       "142913828922"
      ]
     },
     "execution_count": 5,
     "metadata": {},
     "output_type": "execute_result"
    }
   ],
   "source": [
    "def sumPrimes(n):\n",
    "    sum_, sieve = 0, [True] * n\n",
    "    for p in range(2, n):\n",
    "        if sieve[p]:\n",
    "            sum_ += p\n",
    "            for i in range(p*p, n, p):\n",
    "                sieve[i] = False\n",
    "    return sum_\n",
    "\n",
    "sumPrimes(2000000)"
   ]
  },
  {
   "cell_type": "code",
   "execution_count": null,
   "metadata": {},
   "outputs": [],
   "source": []
  }
 ],
 "metadata": {
  "kernelspec": {
   "display_name": "Python 3",
   "language": "python",
   "name": "python3"
  },
  "language_info": {
   "codemirror_mode": {
    "name": "ipython",
    "version": 3
   },
   "file_extension": ".py",
   "mimetype": "text/x-python",
   "name": "python",
   "nbconvert_exporter": "python",
   "pygments_lexer": "ipython3",
   "version": "3.7.2"
  }
 },
 "nbformat": 4,
 "nbformat_minor": 2
}
