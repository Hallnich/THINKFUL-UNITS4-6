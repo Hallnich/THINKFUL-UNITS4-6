{
 "cells": [
  {
   "cell_type": "code",
   "execution_count": 1,
   "metadata": {},
   "outputs": [],
   "source": [
    "# Define selection sort algorithm\n",
    "def selection_sort(list_):\n",
    "   for fillslot in range(len(list_)-1,0,-1):\n",
    "       MaxPosition=0\n",
    "       for location in range(1,fillslot+1):\n",
    "           if list_[location]>list_[MaxPosition]:\n",
    "               MaxPosition = location\n",
    "       temp = list_[fillslot]\n",
    "       list_[fillslot] = list_[MaxPosition]\n",
    "       list_[MaxPosition] = temp"
   ]
  },
  {
   "cell_type": "code",
   "execution_count": 2,
   "metadata": {},
   "outputs": [],
   "source": [
    "import time\n",
    "import random\n",
    "\n",
    "# Set Seed \n",
    "random.seed(a=42)\n",
    "\n",
    "# Create short and long lists\n",
    "short_list = list(random.sample(range(1000000), 100))\n",
    "long_list = list(random.sample(range(1000000), 10000))"
   ]
  },
  {
   "cell_type": "code",
   "execution_count": 3,
   "metadata": {},
   "outputs": [
    {
     "name": "stdout",
     "output_type": "stream",
     "text": [
      "--- 0.0009922981262207031 seconds ---\n"
     ]
    }
   ],
   "source": [
    "# Test on short list.\n",
    "# Start timer.\n",
    "start_time = time.time()\n",
    "\n",
    "# Run our insertion sort.\n",
    "selection_sort(short_list)\n",
    "\n",
    "# Print time to show runtime.\n",
    "print(\"--- %s seconds ---\" % (time.time() - start_time))"
   ]
  },
  {
   "cell_type": "code",
   "execution_count": 4,
   "metadata": {},
   "outputs": [
    {
     "name": "stdout",
     "output_type": "stream",
     "text": [
      "--- 7.094340562820435 seconds ---\n"
     ]
    }
   ],
   "source": [
    "# Test on long list.\n",
    "start_time = time.time()\n",
    "\n",
    "selection_sort(long_list)\n",
    "\n",
    "print(\"--- %s seconds ---\" % (time.time() - start_time))"
   ]
  },
  {
   "cell_type": "code",
   "execution_count": 5,
   "metadata": {},
   "outputs": [
    {
     "name": "stdout",
     "output_type": "stream",
     "text": [
      "--- 0.0004987716674804688 seconds ---\n"
     ]
    }
   ],
   "source": [
    "# Start Timer\n",
    "start_time = time.time()\n",
    "\n",
    "# Sort the default list. Note that .sort() will sort in place, which would alter default_list.\n",
    "sorted(long_list)\n",
    "\n",
    "# Print time to show runtime\n",
    "print(\"--- %s seconds ---\" % (time.time() - start_time))"
   ]
  },
  {
   "cell_type": "code",
   "execution_count": null,
   "metadata": {},
   "outputs": [],
   "source": [
    "# Selection sorting algorithm is very inefficient compared to default python sorter "
   ]
  },
  {
   "cell_type": "code",
   "execution_count": null,
   "metadata": {},
   "outputs": [],
   "source": []
  }
 ],
 "metadata": {
  "kernelspec": {
   "display_name": "Python 3",
   "language": "python",
   "name": "python3"
  },
  "language_info": {
   "codemirror_mode": {
    "name": "ipython",
    "version": 3
   },
   "file_extension": ".py",
   "mimetype": "text/x-python",
   "name": "python",
   "nbconvert_exporter": "python",
   "pygments_lexer": "ipython3",
   "version": "3.7.2"
  }
 },
 "nbformat": 4,
 "nbformat_minor": 2
}
